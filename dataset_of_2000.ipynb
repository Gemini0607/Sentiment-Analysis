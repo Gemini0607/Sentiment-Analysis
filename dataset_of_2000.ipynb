{
 "cells": [
  {
   "cell_type": "code",
   "execution_count": 1,
   "metadata": {
    "collapsed": true
   },
   "outputs": [],
   "source": [
    "import numpy as np\n",
    "import pandas as pd\n",
    "from pandas import Series, DataFrame"
   ]
  },
  {
   "cell_type": "code",
   "execution_count": 2,
   "metadata": {
    "collapsed": false
   },
   "outputs": [
    {
     "name": "stdout",
     "output_type": "stream",
     "text": [
      "Length of Text data files: 2000\n"
     ]
    }
   ],
   "source": [
    "# Reading the Data\n",
    "with open('data.txt','r') as fn:\n",
    "    x = fn.readline()\n",
    "\n",
    "data = x.split('|')\n",
    "del data[-1]    # To delete the extra '|' (pipe) operator that was introduced while Pre-Processing\n",
    "print 'Length of Text data files:',len(data)"
   ]
  },
  {
   "cell_type": "code",
   "execution_count": 3,
   "metadata": {
    "collapsed": false
   },
   "outputs": [],
   "source": [
    "pos = [1]*1000\n",
    "neg = [0]*1000\n",
    "polarity = pos + neg"
   ]
  },
  {
   "cell_type": "code",
   "execution_count": 15,
   "metadata": {
    "collapsed": false
   },
   "outputs": [
    {
     "name": "stdout",
     "output_type": "stream",
     "text": [
      "X Training: 1400\n",
      "X Testing: 600\n",
      "Y Training: 1400\n",
      "Y Testing: 600\n"
     ]
    }
   ],
   "source": [
    "# Splitting the data into Train and Test sets\n",
    "# 'Text' is the independent variable and 'Polarity' is the dependent variable\n",
    "\n",
    "from sklearn.model_selection import train_test_split\n",
    "X_train, X_test, Y_train, Y_test = train_test_split(data, polarity, test_size = 0.30, random_state = 10) \n",
    "print 'X Training:',len(X_train)\n",
    "print 'X Testing:',len(X_test)\n",
    "print 'Y Training:',len(Y_train)\n",
    "print 'Y Testing:',len(Y_test)"
   ]
  },
  {
   "cell_type": "code",
   "execution_count": 16,
   "metadata": {
    "collapsed": true
   },
   "outputs": [],
   "source": [
    "# Creating a Sparse Matrix of Term Frequency Identifiers and its Inverse Document Frequency of words in the dataset\n",
    "\n",
    "from sklearn.feature_extraction.text import TfidfVectorizer\n",
    "cv = TfidfVectorizer(ngram_range = (1,1), analyzer=u'word')\n",
    "\n",
    "X_train_dtm = cv.fit_transform(X_train)\n",
    "X_test_dtm = cv.transform(X_test)"
   ]
  },
  {
   "cell_type": "markdown",
   "metadata": {},
   "source": [
    "<h1> Creating Classification Models"
   ]
  },
  {
   "cell_type": "markdown",
   "metadata": {},
   "source": [
    "<h3> Multinomial NaiveBayes"
   ]
  },
  {
   "cell_type": "code",
   "execution_count": 17,
   "metadata": {
    "collapsed": false
   },
   "outputs": [
    {
     "name": "stdout",
     "output_type": "stream",
     "text": [
      "Accuracy: 0.833333333333\n"
     ]
    }
   ],
   "source": [
    "from sklearn.naive_bayes import MultinomialNB\n",
    "mnb = MultinomialNB()\n",
    "\n",
    "mnb.fit(X_train_dtm, Y_train)\n",
    "mnb_predict = mnb.predict(X_test_dtm)\n",
    "\n",
    "print 'Accuracy:',mnb.score(X_test_dtm,Y_test)"
   ]
  },
  {
   "cell_type": "markdown",
   "metadata": {},
   "source": [
    "<h3> Logistic Regression "
   ]
  },
  {
   "cell_type": "code",
   "execution_count": 18,
   "metadata": {
    "collapsed": false
   },
   "outputs": [
    {
     "name": "stdout",
     "output_type": "stream",
     "text": [
      "Accuracy: 0.843333333333\n"
     ]
    }
   ],
   "source": [
    "from sklearn.linear_model import LogisticRegression\n",
    "LR = LogisticRegression()\n",
    "\n",
    "LR.fit(X_train_dtm, Y_train)\n",
    "LR_predict = LR.predict(X_test_dtm)\n",
    "\n",
    "print 'Accuracy:',LR.score(X_test_dtm, Y_test)"
   ]
  },
  {
   "cell_type": "markdown",
   "metadata": {},
   "source": [
    "<h3> Stochastic Gradient Descent (SGD) Classifier"
   ]
  },
  {
   "cell_type": "code",
   "execution_count": 19,
   "metadata": {
    "collapsed": false
   },
   "outputs": [
    {
     "name": "stdout",
     "output_type": "stream",
     "text": [
      "Accuracy: 0.836666666667\n"
     ]
    }
   ],
   "source": [
    "from sklearn.linear_model import SGDClassifier\n",
    "sgd = SGDClassifier()\n",
    "\n",
    "sgd_model = sgd.fit(X_train_dtm, Y_train)\n",
    "sgd_predict = sgd.predict(X_test_dtm)\n",
    "\n",
    "print 'Accuracy:',sgd.score(X_test_dtm, Y_test)"
   ]
  },
  {
   "cell_type": "markdown",
   "metadata": {},
   "source": [
    "<h3> Bernoulli's Naive Bayes"
   ]
  },
  {
   "cell_type": "code",
   "execution_count": 20,
   "metadata": {
    "collapsed": false
   },
   "outputs": [
    {
     "name": "stdout",
     "output_type": "stream",
     "text": [
      "Accuracy: 0.815\n"
     ]
    }
   ],
   "source": [
    "from sklearn.naive_bayes import BernoulliNB\n",
    "bnb = BernoulliNB()\n",
    "\n",
    "bnb_model = bnb.fit(X_train_dtm, Y_train)\n",
    "bnb_predict = bnb.predict(X_test_dtm)\n",
    "\n",
    "print 'Accuracy:',bnb.score(X_test_dtm, Y_test)"
   ]
  },
  {
   "cell_type": "markdown",
   "metadata": {},
   "source": [
    "<h3> Passive Aggressive Classifier "
   ]
  },
  {
   "cell_type": "code",
   "execution_count": 21,
   "metadata": {
    "collapsed": false
   },
   "outputs": [
    {
     "name": "stdout",
     "output_type": "stream",
     "text": [
      "Accuracy: 0.861666666667\n"
     ]
    }
   ],
   "source": [
    "from sklearn.linear_model import PassiveAggressiveClassifier\n",
    "pac = PassiveAggressiveClassifier()\n",
    "\n",
    "pac_model = pac.fit(X_train_dtm, Y_train)\n",
    "pac_predict = pac.predict(X_test_dtm)\n",
    "\n",
    "print 'Accuracy:',pac.score(X_test_dtm, Y_test)"
   ]
  },
  {
   "cell_type": "markdown",
   "metadata": {},
   "source": [
    "<h3> Voting Classifier</h3>\n",
    "<i> A Voting Classifier allows you to implement multilpe classification models together without having to run each of them individually. "
   ]
  },
  {
   "cell_type": "code",
   "execution_count": 22,
   "metadata": {
    "collapsed": false
   },
   "outputs": [
    {
     "name": "stdout",
     "output_type": "stream",
     "text": [
      "Accuracy: 0.858333333333\n"
     ]
    }
   ],
   "source": [
    "from sklearn.ensemble import VotingClassifier\n",
    "vclf = VotingClassifier(estimators=[('lr', LR), ('MultinomialNB', mnb), ('SGDClassifier', sgd),('BernoulliNB',bnb),('PassiveAggressiveClassifier',pac)], voting='hard')\n",
    "\n",
    "vclf.fit(X_train_dtm, Y_train)\n",
    "vclf.predict(X_test_dtm)\n",
    "\n",
    "print 'Accuracy:',vclf.score(X_test_dtm, Y_test)"
   ]
  },
  {
   "cell_type": "code",
   "execution_count": null,
   "metadata": {
    "collapsed": true
   },
   "outputs": [],
   "source": []
  }
 ],
 "metadata": {
  "kernelspec": {
   "display_name": "Python 2",
   "language": "python",
   "name": "python2"
  },
  "language_info": {
   "codemirror_mode": {
    "name": "ipython",
    "version": 2
   },
   "file_extension": ".py",
   "mimetype": "text/x-python",
   "name": "python",
   "nbconvert_exporter": "python",
   "pygments_lexer": "ipython2",
   "version": "2.7.11"
  }
 },
 "nbformat": 4,
 "nbformat_minor": 0
}
